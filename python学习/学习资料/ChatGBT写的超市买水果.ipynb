{
 "cells": [
  {
   "cell_type": "code",
   "execution_count": 1,
   "metadata": {
    "id": "xBmI3kqlmgE0"
   },
   "outputs": [
    {
     "name": "stdin",
     "output_type": "stream",
     "text": [
      "你想买哪些水果？（以空格分隔，例如'苹果 香蕉'） 香蕉 苹果\n",
      "你要买多少千克香蕉？ 3\n",
      "你要买多少千克苹果？ 2\n",
      "你是会员吗？（是/否） 是\n"
     ]
    },
    {
     "name": "stdout",
     "output_type": "stream",
     "text": [
      "你一共买了 5.00 千克水果\n",
      "你一共需要支付 22.00 元\n",
      "你一共买了 5.00 千克水果\n",
      "你一共需要支付 22.00 元\n"
     ]
    }
   ],
   "source": [
    "fruits = {'苹果': 10, '香蕉': 8, '橘子': 5}\n",
    "total_weight = 0\n",
    "total_price = 0\n",
    "\n",
    "# 询问用户想买哪些水果\n",
    "order = input(\"你想买哪些水果？（以空格分隔，例如'苹果 香蕉'）\").split()\n",
    "\n",
    "# 遍历用户的订单，计算每个水果的数量和价格\n",
    "for item in order:\n",
    "  if item in fruits:\n",
    "    kg = float(input(f\"你要买多少千克{item}？\"))\n",
    "    total_weight += kg\n",
    "    total_price += kg * fruits[item]\n",
    "\n",
    "  # 用户想买的水果不在预设列表中，则询问水果名称和单价\n",
    "  else:\n",
    "    fruit_name = input(\"这种水果叫什么名字？\")\n",
    "    fruit_price = float(input(\"这种水果每千克多少钱？\"))\n",
    "    kg = float(input(f\"你要买多少千克{fruit_name}？\"))\n",
    "    total_weight += kg\n",
    "    total_price += kg * fruit_price\n",
    "\n",
    "# 询问用户是否是会员\n",
    "is_member = input(\"你是会员吗？（是/否）\") == \"是\"\n",
    "\n",
    "# 计算优惠后的价格\n",
    "final_price = total_price / 2 if is_member else total_price\n",
    "\n",
    "# 输出订单信息\n",
    "print(f\"你一共买了 {total_weight:.2f} 千克水果\")\n",
    "print(f\"你一共需要支付 {final_price:.2f} 元\")\n",
    "\n",
    "\n",
    "#\n",
    "# 输出订单信息\n",
    "print(f\"你一共买了 {total_weight:.2f} 千克水果\")\n",
    "print(f\"你一共需要支付 {final_price:.2f} 元\")\n",
    "\n",
    "\n",
    "#这个程序首先定义了一个字典 fruits， Key为水果名称， Value为每千克的价格。接着通过 input() 函数询问用户想买哪些水果。如果用户需要买的水果在预设列表中，程序会再次通过 input() 函数询问用户想买多少千克，然后累加订单的总重量和总价。如果用户需要买的水果不在预设列表中，则会询问用户水果名称和单价，然后计算总重量和总价。\n",
    "\n",
    "#然后程序会询问用户是否是会员，通过 input() 函数获得答案，如果是会员则打折 50%。最后输出订单的信息：总重量和最终需要支付的金额。"
   ]
  },
  {
   "cell_type": "code",
   "execution_count": null,
   "metadata": {},
   "outputs": [],
   "source": []
  }
 ],
 "metadata": {
  "colab": {
   "provenance": []
  },
  "kernelspec": {
   "display_name": "Python 3 (ipykernel)",
   "language": "python",
   "name": "python3"
  },
  "language_info": {
   "codemirror_mode": {
    "name": "ipython",
    "version": 3
   },
   "file_extension": ".py",
   "mimetype": "text/x-python",
   "name": "python",
   "nbconvert_exporter": "python",
   "pygments_lexer": "ipython3",
   "version": "3.9.13"
  }
 },
 "nbformat": 4,
 "nbformat_minor": 4
}
